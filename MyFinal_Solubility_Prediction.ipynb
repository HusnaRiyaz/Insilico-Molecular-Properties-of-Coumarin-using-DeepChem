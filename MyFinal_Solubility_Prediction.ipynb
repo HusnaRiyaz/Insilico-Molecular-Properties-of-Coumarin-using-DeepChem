{
  "nbformat": 4,
  "nbformat_minor": 0,
  "metadata": {
    "colab": {
      "name": "MyFinal_Solubility_Prediction.ipynb",
      "provenance": [],
      "collapsed_sections": [],
      "authorship_tag": "ABX9TyMh7z273qQvp2pxTjwFjObk",
      "include_colab_link": true
    },
    "kernelspec": {
      "name": "python3",
      "display_name": "Python 3"
    },
    "language_info": {
      "name": "python"
    },
    "accelerator": "GPU"
  },
  "cells": [
    {
      "cell_type": "markdown",
      "metadata": {
        "id": "view-in-github",
        "colab_type": "text"
      },
      "source": [
        "<a href=\"https://colab.research.google.com/github/HusnaRiyaz/Insilico-Molecular-Properties-of-Coumarin-using-DeepChem/blob/main/MyFinal_Solubility_Prediction.ipynb\" target=\"_parent\"><img src=\"https://colab.research.google.com/assets/colab-badge.svg\" alt=\"Open In Colab\"/></a>"
      ]
    },
    {
      "cell_type": "code",
      "metadata": {
        "colab": {
          "base_uri": "https://localhost:8080/"
        },
        "id": "yHl1E8FxolUy",
        "outputId": "d4ace79a-df04-4c34-d434-3db0b296ec7c"
      },
      "source": [
        "!curl -Lo conda_installer.py https://raw.githubusercontent.com/deepchem/deepchem/master/scripts/colab_install.py\n",
        "import conda_installer\n",
        "conda_installer.install()\n",
        "!/root/miniconda/bin/conda info -e"
      ],
      "execution_count": null,
      "outputs": [
        {
          "output_type": "stream",
          "text": [
            "  % Total    % Received % Xferd  Average Speed   Time    Time     Time  Current\n",
            "                                 Dload  Upload   Total   Spent    Left  Speed\n",
            "\r  0     0    0     0    0     0      0      0 --:--:-- --:--:-- --:--:--     0\r100  3501  100  3501    0     0  31258      0 --:--:-- --:--:-- --:--:-- 31258\n"
          ],
          "name": "stdout"
        },
        {
          "output_type": "stream",
          "text": [
            "add /root/miniconda/lib/python3.7/site-packages to PYTHONPATH\n",
            "python version: 3.7.10\n",
            "fetching installer from https://repo.continuum.io/miniconda/Miniconda3-latest-Linux-x86_64.sh\n",
            "done\n",
            "installing miniconda to /root/miniconda\n",
            "done\n",
            "installing rdkit, openmm, pdbfixer\n",
            "added omnia to channels\n",
            "added conda-forge to channels\n",
            "done\n",
            "conda packages installation finished!\n"
          ],
          "name": "stderr"
        },
        {
          "output_type": "stream",
          "text": [
            "# conda environments:\n",
            "#\n",
            "base                  *  /root/miniconda\n",
            "\n"
          ],
          "name": "stdout"
        }
      ]
    },
    {
      "cell_type": "code",
      "metadata": {
        "colab": {
          "base_uri": "https://localhost:8080/"
        },
        "id": "yKfKB52spJeX",
        "outputId": "c7b02ade-750d-45ca-cf3a-2555c703f972"
      },
      "source": [
        "!pip install --pre deepchem"
      ],
      "execution_count": null,
      "outputs": [
        {
          "output_type": "stream",
          "text": [
            "Collecting deepchem\n",
            "\u001b[?25l  Downloading https://files.pythonhosted.org/packages/5d/6e/1b8a3295f9eac3da3813b44300a68b108ef2f2c8060a9ce12863b30c13a2/deepchem-2.6.0.dev20210520034915-py3-none-any.whl (564kB)\n",
            "\r\u001b[K     |▋                               | 10kB 21.2MB/s eta 0:00:01\r\u001b[K     |█▏                              | 20kB 28.0MB/s eta 0:00:01\r\u001b[K     |█▊                              | 30kB 24.3MB/s eta 0:00:01\r\u001b[K     |██▎                             | 40kB 26.6MB/s eta 0:00:01\r\u001b[K     |███                             | 51kB 26.9MB/s eta 0:00:01\r\u001b[K     |███▌                            | 61kB 21.8MB/s eta 0:00:01\r\u001b[K     |████                            | 71kB 23.5MB/s eta 0:00:01\r\u001b[K     |████▋                           | 81kB 25.1MB/s eta 0:00:01\r\u001b[K     |█████▎                          | 92kB 24.1MB/s eta 0:00:01\r\u001b[K     |█████▉                          | 102kB 24.5MB/s eta 0:00:01\r\u001b[K     |██████▍                         | 112kB 24.5MB/s eta 0:00:01\r\u001b[K     |███████                         | 122kB 24.5MB/s eta 0:00:01\r\u001b[K     |███████▌                        | 133kB 24.5MB/s eta 0:00:01\r\u001b[K     |████████▏                       | 143kB 24.5MB/s eta 0:00:01\r\u001b[K     |████████▊                       | 153kB 24.5MB/s eta 0:00:01\r\u001b[K     |█████████▎                      | 163kB 24.5MB/s eta 0:00:01\r\u001b[K     |█████████▉                      | 174kB 24.5MB/s eta 0:00:01\r\u001b[K     |██████████▌                     | 184kB 24.5MB/s eta 0:00:01\r\u001b[K     |███████████                     | 194kB 24.5MB/s eta 0:00:01\r\u001b[K     |███████████▋                    | 204kB 24.5MB/s eta 0:00:01\r\u001b[K     |████████████▏                   | 215kB 24.5MB/s eta 0:00:01\r\u001b[K     |████████████▊                   | 225kB 24.5MB/s eta 0:00:01\r\u001b[K     |█████████████▍                  | 235kB 24.5MB/s eta 0:00:01\r\u001b[K     |██████████████                  | 245kB 24.5MB/s eta 0:00:01\r\u001b[K     |██████████████▌                 | 256kB 24.5MB/s eta 0:00:01\r\u001b[K     |███████████████                 | 266kB 24.5MB/s eta 0:00:01\r\u001b[K     |███████████████▊                | 276kB 24.5MB/s eta 0:00:01\r\u001b[K     |████████████████▎               | 286kB 24.5MB/s eta 0:00:01\r\u001b[K     |████████████████▉               | 296kB 24.5MB/s eta 0:00:01\r\u001b[K     |█████████████████▍              | 307kB 24.5MB/s eta 0:00:01\r\u001b[K     |██████████████████              | 317kB 24.5MB/s eta 0:00:01\r\u001b[K     |██████████████████▋             | 327kB 24.5MB/s eta 0:00:01\r\u001b[K     |███████████████████▏            | 337kB 24.5MB/s eta 0:00:01\r\u001b[K     |███████████████████▊            | 348kB 24.5MB/s eta 0:00:01\r\u001b[K     |████████████████████▎           | 358kB 24.5MB/s eta 0:00:01\r\u001b[K     |█████████████████████           | 368kB 24.5MB/s eta 0:00:01\r\u001b[K     |█████████████████████▌          | 378kB 24.5MB/s eta 0:00:01\r\u001b[K     |██████████████████████          | 389kB 24.5MB/s eta 0:00:01\r\u001b[K     |██████████████████████▋         | 399kB 24.5MB/s eta 0:00:01\r\u001b[K     |███████████████████████▏        | 409kB 24.5MB/s eta 0:00:01\r\u001b[K     |███████████████████████▉        | 419kB 24.5MB/s eta 0:00:01\r\u001b[K     |████████████████████████▍       | 430kB 24.5MB/s eta 0:00:01\r\u001b[K     |█████████████████████████       | 440kB 24.5MB/s eta 0:00:01\r\u001b[K     |█████████████████████████▌      | 450kB 24.5MB/s eta 0:00:01\r\u001b[K     |██████████████████████████▏     | 460kB 24.5MB/s eta 0:00:01\r\u001b[K     |██████████████████████████▊     | 471kB 24.5MB/s eta 0:00:01\r\u001b[K     |███████████████████████████▎    | 481kB 24.5MB/s eta 0:00:01\r\u001b[K     |███████████████████████████▉    | 491kB 24.5MB/s eta 0:00:01\r\u001b[K     |████████████████████████████▍   | 501kB 24.5MB/s eta 0:00:01\r\u001b[K     |█████████████████████████████   | 512kB 24.5MB/s eta 0:00:01\r\u001b[K     |█████████████████████████████▋  | 522kB 24.5MB/s eta 0:00:01\r\u001b[K     |██████████████████████████████▏ | 532kB 24.5MB/s eta 0:00:01\r\u001b[K     |██████████████████████████████▊ | 542kB 24.5MB/s eta 0:00:01\r\u001b[K     |███████████████████████████████▍| 552kB 24.5MB/s eta 0:00:01\r\u001b[K     |████████████████████████████████| 563kB 24.5MB/s eta 0:00:01\r\u001b[K     |████████████████████████████████| 573kB 24.5MB/s \n",
            "\u001b[?25hRequirement already satisfied: numpy in /usr/local/lib/python3.7/dist-packages (from deepchem) (1.19.5)\n",
            "Requirement already satisfied: joblib in /usr/local/lib/python3.7/dist-packages (from deepchem) (1.0.1)\n",
            "Requirement already satisfied: pandas in /usr/local/lib/python3.7/dist-packages (from deepchem) (1.1.5)\n",
            "Requirement already satisfied: scipy in /usr/local/lib/python3.7/dist-packages (from deepchem) (1.4.1)\n",
            "Requirement already satisfied: scikit-learn in /usr/local/lib/python3.7/dist-packages (from deepchem) (0.22.2.post1)\n",
            "Requirement already satisfied: pytz>=2017.2 in /usr/local/lib/python3.7/dist-packages (from pandas->deepchem) (2018.9)\n",
            "Requirement already satisfied: python-dateutil>=2.7.3 in /usr/local/lib/python3.7/dist-packages (from pandas->deepchem) (2.8.1)\n",
            "Requirement already satisfied: six>=1.5 in /usr/local/lib/python3.7/dist-packages (from python-dateutil>=2.7.3->pandas->deepchem) (1.15.0)\n",
            "Installing collected packages: deepchem\n",
            "Successfully installed deepchem-2.6.0.dev20210520034915\n"
          ],
          "name": "stdout"
        }
      ]
    },
    {
      "cell_type": "code",
      "metadata": {
        "id": "5oFBfiYapMZn"
      },
      "source": [
        "import deepchem as dc\n",
        "import numpy as np\n",
        "import pandas as pd"
      ],
      "execution_count": null,
      "outputs": []
    },
    {
      "cell_type": "code",
      "metadata": {
        "id": "kj7KwZKqpPCc"
      },
      "source": [
        "tasks, datasets, transformers = dc.molnet.load_delaney(featurizer='Weave')\n",
        "train_dataset, valid_dataset, test_dataset = datasets"
      ],
      "execution_count": null,
      "outputs": []
    },
    {
      "cell_type": "code",
      "metadata": {
        "colab": {
          "base_uri": "https://localhost:8080/"
        },
        "id": "p0oU-wZJ7vx-",
        "outputId": "079d2cb0-a1e7-4193-efed-9a7e75923fd7"
      },
      "source": [
        "print(train_dataset)"
      ],
      "execution_count": null,
      "outputs": [
        {
          "output_type": "stream",
          "text": [
            "<DiskDataset X.shape: (902,), y.shape: (902, 1), w.shape: (902, 1), ids: ['CC(C)=CCCC(C)=CC(=O)' 'CCCC=C' 'CCCCCCCCCCCCCC' ...\n",
            " 'Nc2cccc3nc1ccccc1cc23 ' 'C1CCCCCC1' 'OC1CCCCCC1'], task_names: ['measured log solubility in mols per litre']>\n"
          ],
          "name": "stdout"
        }
      ]
    },
    {
      "cell_type": "code",
      "metadata": {
        "colab": {
          "base_uri": "https://localhost:8080/"
        },
        "id": "YEM3UmK-77cW",
        "outputId": "0d299083-d010-4976-a7bf-ff5b3d73d746"
      },
      "source": [
        "print(valid_dataset)"
      ],
      "execution_count": null,
      "outputs": [
        {
          "output_type": "stream",
          "text": [
            "<DiskDataset X.shape: (113,), y.shape: (113, 1), w.shape: (113, 1), ids: ['Nc1ncnc2nc[nH]c12 ' 'Nc1nc(O)nc2nc[nH]c12 '\n",
            " 'Fc1cccc(F)c1C(=O)NC(=O)Nc2cc(Cl)c(F)c(Cl)c2F ' ...\n",
            " 'OC(Cn1cncn1)(Cn2cncn2)c3ccc(F)cc3F '\n",
            " 'FC(F)(F)c1cccc(c1)N2CC(CCl)C(Cl)C2=O' 'CC1(C)CON(Cc2ccccc2Cl)C1=O'], task_names: ['measured log solubility in mols per litre']>\n"
          ],
          "name": "stdout"
        }
      ]
    },
    {
      "cell_type": "code",
      "metadata": {
        "colab": {
          "base_uri": "https://localhost:8080/"
        },
        "id": "Wgok4KA1724i",
        "outputId": "1462bd79-3ee6-493c-e8b1-ec1d4345908a"
      },
      "source": [
        "print(test_dataset)"
      ],
      "execution_count": null,
      "outputs": [
        {
          "output_type": "stream",
          "text": [
            "<DiskDataset X.shape: (113,), y.shape: (113, 1), w.shape: (113, 1), ids: ['c1cc2ccc3cccc4ccc(c1)c2c34' 'Cc1cc(=O)[nH]c(=S)[nH]1'\n",
            " 'Oc1ccc(cc1)C2(OC(=O)c3ccccc23)c4ccc(O)cc4 ' ...\n",
            " 'c1ccc2c(c1)ccc3c2ccc4c5ccccc5ccc43' 'Cc1occc1C(=O)Nc2ccccc2'\n",
            " 'OCC3OC(OCC2OC(OC(C#N)c1ccccc1)C(O)C(O)C2O)C(O)C(O)C3O '], task_names: ['measured log solubility in mols per litre']>\n"
          ],
          "name": "stdout"
        }
      ]
    },
    {
      "cell_type": "code",
      "metadata": {
        "id": "kfzffC0PpZIG"
      },
      "source": [
        "model = dc.models.MPNNModel(n_tasks=len(tasks),n_atom_feat = 75, n_pair_feat = 14, T = 4,\n",
        "                            M = 5, batch_size =10,epochs = 50,dropout = 0.5, learning_rate = 0.001, mode ='regression')"
      ],
      "execution_count": null,
      "outputs": []
    },
    {
      "cell_type": "code",
      "metadata": {
        "colab": {
          "base_uri": "https://localhost:8080/"
        },
        "id": "sBQdXXm_pb-0",
        "outputId": "e0c14d3d-9275-4f51-84d7-042450bc082b"
      },
      "source": [
        "model.fit(train_dataset, nb_epoch=100)"
      ],
      "execution_count": null,
      "outputs": [
        {
          "output_type": "stream",
          "text": [
            "/usr/local/lib/python3.7/dist-packages/tensorflow/python/framework/indexed_slices.py:437: UserWarning: Converting sparse IndexedSlices(IndexedSlices(indices=Tensor(\"gradient_tape/model/message_passing/edge_network/Reshape_4:0\", shape=(None,), dtype=int32), values=Tensor(\"gradient_tape/model/message_passing/edge_network/Reshape_3:0\", shape=(None, 100), dtype=float32), dense_shape=Tensor(\"gradient_tape/model/message_passing/edge_network/Cast:0\", shape=(2,), dtype=int32))) to a dense Tensor of unknown shape. This may consume a large amount of memory.\n",
            "  \"shape. This may consume a large amount of memory.\" % value)\n",
            "/usr/local/lib/python3.7/dist-packages/tensorflow/python/framework/indexed_slices.py:437: UserWarning: Converting sparse IndexedSlices(IndexedSlices(indices=Tensor(\"gradient_tape/model/message_passing/edge_network/Reshape_9:0\", shape=(None,), dtype=int32), values=Tensor(\"gradient_tape/model/message_passing/edge_network/Reshape_8:0\", shape=(None, 100), dtype=float32), dense_shape=Tensor(\"gradient_tape/model/message_passing/edge_network/Cast_1:0\", shape=(2,), dtype=int32))) to a dense Tensor of unknown shape. This may consume a large amount of memory.\n",
            "  \"shape. This may consume a large amount of memory.\" % value)\n",
            "/usr/local/lib/python3.7/dist-packages/tensorflow/python/framework/indexed_slices.py:437: UserWarning: Converting sparse IndexedSlices(IndexedSlices(indices=Tensor(\"gradient_tape/model/message_passing/edge_network/Reshape_14:0\", shape=(None,), dtype=int32), values=Tensor(\"gradient_tape/model/message_passing/edge_network/Reshape_13:0\", shape=(None, 100), dtype=float32), dense_shape=Tensor(\"gradient_tape/model/message_passing/edge_network/Cast_2:0\", shape=(2,), dtype=int32))) to a dense Tensor of unknown shape. This may consume a large amount of memory.\n",
            "  \"shape. This may consume a large amount of memory.\" % value)\n"
          ],
          "name": "stderr"
        },
        {
          "output_type": "execute_result",
          "data": {
            "text/plain": [
              "0.035175209045410154"
            ]
          },
          "metadata": {
            "tags": []
          },
          "execution_count": 11
        }
      ]
    },
    {
      "cell_type": "code",
      "metadata": {
        "id": "nudvDwIMpep-"
      },
      "source": [
        "predicted = model.predict_on_batch(test_dataset.X)"
      ],
      "execution_count": null,
      "outputs": []
    },
    {
      "cell_type": "code",
      "metadata": {
        "colab": {
          "base_uri": "https://localhost:8080/"
        },
        "id": "U_q_X0Qcphsa",
        "outputId": "14e0dff3-2955-4fbd-f54e-c6b5ef8444bc"
      },
      "source": [
        "metric = dc.metrics.Metric(dc.metrics.pearson_r2_score)\n",
        "print(\"Training set score:\", model.evaluate(train_dataset, [metric], transformers))\n",
        "print(\"Test set score:\", model.evaluate(test_dataset, [metric], transformers))\n",
        "mae = dc.metrics.mean_absolute_error(y_true=test_dataset.y,y_pred=predicted)\n",
        "print(\"Mean Absolute Error:\", mae)"
      ],
      "execution_count": null,
      "outputs": [
        {
          "output_type": "stream",
          "text": [
            "Training set score: {'pearson_r2_score': 0.971488231127746}\n",
            "Test set score: {'pearson_r2_score': 0.8360226973093162}\n",
            "Mean Absolute Error: 0.38812054139040525\n"
          ],
          "name": "stdout"
        }
      ]
    },
    {
      "cell_type": "code",
      "metadata": {
        "colab": {
          "base_uri": "https://localhost:8080/"
        },
        "id": "TM7P29DLplF3",
        "outputId": "bd0f1af6-03be-43a3-cf7e-dd36aa5df151"
      },
      "source": [
        "check_data = open('Coumarin_solub.csv','r')\n",
        "pred_featurizer = dc.feat.WeaveFeaturizer()\n",
        "pred_task = []\n",
        "pred_loader = dc.data.CSVLoader(tasks=pred_task, feature_field='SMILES', featurizer=pred_featurizer)\n",
        "pred_dataset = pred_loader.featurize(check_data)"
      ],
      "execution_count": null,
      "outputs": [
        {
          "output_type": "stream",
          "text": [
            "/usr/local/lib/python3.7/dist-packages/deepchem/data/data_loader.py:162: FutureWarning: featurize() is deprecated and has been renamed to create_dataset().featurize() will be removed in DeepChem 3.0\n",
            "  \"featurize() will be removed in DeepChem 3.0\", FutureWarning)\n"
          ],
          "name": "stderr"
        }
      ]
    },
    {
      "cell_type": "code",
      "metadata": {
        "colab": {
          "base_uri": "https://localhost:8080/"
        },
        "id": "JTiJguy405tv",
        "outputId": "5e574583-0366-4a3c-d595-98c1560a3097"
      },
      "source": [
        "print(pred_dataset)"
      ],
      "execution_count": null,
      "outputs": [
        {
          "output_type": "stream",
          "text": [
            "<DiskDataset X.shape: (1748,), y.shape: (), w.shape: (), task_names: []>\n"
          ],
          "name": "stdout"
        }
      ]
    },
    {
      "cell_type": "code",
      "metadata": {
        "colab": {
          "base_uri": "https://localhost:8080/"
        },
        "id": "TXS77EuQpnan",
        "outputId": "7a268cd7-48cf-44b0-8de3-14f99e566b25"
      },
      "source": [
        "solubilities = model.predict_on_batch(pred_dataset.X)\n",
        "for molecule, solubility, in zip(test_dataset.ids, solubilities):\n",
        "   print(solubility, molecule)"
      ],
      "execution_count": null,
      "outputs": [
        {
          "output_type": "stream",
          "text": [
            "[0.57252777] c1cc2ccc3cccc4ccc(c1)c2c34\n",
            "[0.2851803] Cc1cc(=O)[nH]c(=S)[nH]1\n",
            "[0.45169103] Oc1ccc(cc1)C2(OC(=O)c3ccccc23)c4ccc(O)cc4 \n",
            "[0.6810143] c1ccc2c(c1)cc3ccc4cccc5ccc2c3c45\n",
            "[-0.05981854] C1=Cc2cccc3cccc1c23\n",
            "[0.69507796] CC1CO1\n",
            "[0.06639539] CCN2c1ccccc1N(C)C(=S)c3cccnc23 \n",
            "[0.35141703] CC12CCC3C(CCc4cc(O)ccc34)C2CCC1=O\n",
            "[0.84595454] Cn2cc(c1ccccc1)c(=O)c(c2)c3cccc(c3)C(F)(F)F\n",
            "[0.8401174] ClC(Cl)(Cl)C(NC=O)N1C=CN(C=C1)C(NC=O)C(Cl)(Cl)Cl \n",
            "[0.22434755] COc2c1occc1cc3ccc(=O)oc23 \n",
            "[-0.46284434] CN2C(=C(O)c1ccccc1S2(=O)=O)C(=O)Nc3ccccn3 \n",
            "[-0.12341562] Cc3cc2nc1c(=O)[nH]c(=O)nc1n(CC(O)C(O)C(O)CO)c2cc3C\n",
            "[0.87544847] c1ccc(cc1)c2ccc(cc2)c3ccccc3\n",
            "[0.07216039] CC34CC(=O)C1C(CCC2=CC(=O)CCC12C)C3CCC4(=O) \n",
            "[-0.38855216] c1ccc2c(c1)sc3ccccc23\n",
            "[0.06315508] CC23Cc1cnoc1C=C2CCC4C3CCC5(C)C4CCC5(O)C#C\n",
            "[-0.66800094] OC(C(=O)c1ccccc1)c2ccccc2\n",
            "[0.10913825] OCC2OC(Oc1ccccc1CO)C(O)C(O)C2O\n",
            "[0.27597663] CC3C2CCC1(C)C=CC(=O)C(=C1C2OC3=O)C\n",
            "[0.11993491] O=Cc2ccc1OCOc1c2 \n",
            "[-0.32108572] CC1CCCCC1NC(=O)Nc2ccccc2\n",
            "[0.10375068] CC(=O)N(S(=O)c1ccc(N)cc1)c2onc(C)c2C \n",
            "[0.16930892] C1N(C(=O)NCC(C)C)C(=O)NC1\n",
            "[0.38429433] CNC(=O)Oc1ccccc1C2OCCO2\n",
            "[0.9025234] CC1=C(CCCO1)C(=O)Nc2ccccc2 \n",
            "[0.16590054] Cn2c(=O)on(c1ccc(Cl)c(Cl)c1)c2=O\n",
            "[0.6869115] C1Cc2cccc3cccc1c23\n",
            "[-0.15047352] c1ccc2cc3c4cccc5cccc(c3cc2c1)c45\n",
            "[0.08406369] Nc1cc(nc(N)n1=O)N2CCCCC2 \n",
            "[0.32870042] O=c2c(C3CCCc4ccccc43)c(O)c1ccccc1o2 \n",
            "[0.21072568] CC(C)C(Nc1ccc(cc1Cl)C(F)(F)F)C(=O)OC(C#N)c2cccc(Oc3ccccc3)c2\n",
            "[-0.21347697] Cc1c(F)c(F)c(COC(=O)C2C(C=C(Cl)C(F)(F)F)C2(C)C)c(F)c1F\n",
            "[-0.5782616] c2ccc1[nH]nnc1c2\n",
            "[0.13538456] c2ccc1ocnc1c2\n",
            "[0.72288734] CCOC(=O)c1cncn1C(C)c2ccccc2\n",
            "[-0.24830706] CCN2c1ccccc1N(C)C(=O)c3ccccc23 \n",
            "[0.03921341] OCC(O)COC(=O)c1ccccc1Nc2ccnc3cc(Cl)ccc23\n",
            "[0.31452346] OCC1OC(OC2C(O)C(O)C(O)OC2CO)C(O)C(O)C1O\n",
            "[0.44131932] CC34CCc1c(ccc2cc(O)ccc12)C3CCC4=O\n",
            "[0.22794127] ClC1=C(Cl)C(Cl)(C(=C1Cl)Cl)C2(Cl)C(=C(Cl)C(=C2Cl)Cl)Cl\n",
            "[-2.0061707] ClC1(C(=O)C2(Cl)C3(Cl)C14Cl)C5(Cl)C2(Cl)C3(Cl)C(Cl)(Cl)C45Cl\n",
            "[-0.06126645] Oc1ccc(c(O)c1)c3oc2cc(O)cc(O)c2c(=O)c3O \n",
            "[0.5177651] C1SC(=S)NC1(=O)\n",
            "[0.36413285] ClC(Cl)C(Cl)(Cl)SN2C(=O)C1CC=CCC1C2=O \n",
            "[0.24332179] ClC1=C(Cl)C2(Cl)C3C4CC(C=C4)C3C1(Cl)C2(Cl)Cl\n",
            "[0.21055077] CC(=O)Nc1nnc(s1)S(N)(=O)=O \n",
            "[-0.31244072] CC1=C(SCCO1)C(=O)Nc2ccccc2\n",
            "[0.10289971] CN(C(=O)COc1nc2ccccc2s1)c3ccccc3\n",
            "[0.32343882] CN(C(=O)NC(C)(C)c1ccccc1)c2ccccc2\n",
            "[0.528578] Nc1nccs1 \n",
            "[0.29918152] CN(C=Nc1ccc(C)cc1C)C=Nc2ccc(C)cc2C\n",
            "[-0.09466691] OCC(O)C2OC1OC(OC1C2O)C(Cl)(Cl)Cl \n",
            "[-0.39551425] Nc3nc(N)c2nc(c1ccccc1)c(N)nc2n3\n",
            "[0.55599296] CC2Nc1cc(Cl)c(cc1C(=O)N2c3ccccc3C)S(N)(=O)=O \n",
            "[0.01447076] CN1CC(O)N(C1=O)c2nnc(s2)C(C)(C)C\n",
            "[-0.5676178] CCC1(C(=O)NC(=O)NC1=O)C2=CCC3CCC2C3\n",
            "[-0.54410887] CCC(C)C(=O)OC2CC(C)C=C3C=CC(C)C(CCC1CC(O)CC(=O)O1)C23 \n",
            "[-0.04194663] CC2Cc1ccccc1N2NC(=O)c3ccc(Cl)c(c3)S(N)(=O)=O \n",
            "[-0.32283124] o1c2ccccc2c3ccccc13\n",
            "[-0.02831264] O=C(Nc1ccccc1)Nc2ccccc2\n",
            "[-1.3162128] c1ccc2c(c1)c3cccc4c3c2cc5ccccc54\n",
            "[-0.29170474] COc1ccc(cc1)C(O)(C2CC2)c3cncnc3 \n",
            "[-0.82299316] c1cnc2c(c1)ccc3ncccc23\n",
            "[0.70173645] OCC1OC(CO)(OC2OC(COC3OC(CO)C(O)C(O)C3O)C(O)C(O)C2O)C(O)C1O\n",
            "[0.2711763] CCOC(=O)c1ccccc1S(=O)(=O)NN(C=O)c2nc(Cl)cc(OC)n2\n",
            "[-0.06859046] CC34CCC1C(=CCc2cc(O)ccc12)C3CCC4=O\n",
            "[-0.84092367] CN(C)C(=O)Oc1cc(C)nn1c2ccccc2\n",
            "[-1.1201434] OC(Cn1cncn1)(c2ccc(F)cc2)c3ccccc3F\n",
            "[-0.13885537] Cc1c2ccccc2c(C)c3ccc4ccccc4c13\n",
            "[0.11903273] Cc3nnc4CN=C(c1ccccc1Cl)c2cc(Cl)ccc2n34\n",
            "[-0.12172563] Cc3ccnc4N(C1CC1)c2ncccc2C(=O)Nc34 \n",
            "[0.02650752] c1cc2cccc3c4cccc5cccc(c(c1)c23)c54\n",
            "[1.0646088] COc1cc(cc(OC)c1O)C6C2C(COC2=O)C(OC4OC3COC(C)OC3C(O)C4O)c7cc5OCOc5cc67\n",
            "[-0.35205033] O=c1[nH]cnc2nc[nH]c12 \n",
            "[0.01617383] C1C(O)CCC2(C)CC3CCC4(C)C5(C)CC6OCC(C)CC6OC5CC4C3C=C21\n",
            "[0.9678527] Cc1ccccc1n3c(C)nc2ccccc2c3=O\n",
            "[0.7944513] CCOc1ccc(cc1)C(C)(C)COCc3cccc(Oc2ccccc2)c3\n",
            "[-0.6862899] CCC1(CCC(=O)NC1=O)c2ccccc2 \n",
            "[-0.1728186] CC1CC(C)C(=O)C(C1)C(O)CC2CC(=O)NC(=O)C2 \n",
            "[0.59391344] CC(=O)C3CCC4C2CC=C1CC(O)CCC1(C)C2CCC34C \n",
            "[0.05887466] Cc1ccc(OP(=O)(Oc2cccc(C)c2)Oc3ccccc3C)cc1\n",
            "[-0.02155522] CSc1nnc(c(=O)n1N)C(C)(C)C\n",
            "[0.5451987] Nc1ncnc2n(ccc12)C3OC(CO)C(O)C3O \n",
            "[-1.7629561] O=C2NC(=O)C1(CC1)C(=O)N2 \n",
            "[-0.11760326] C1Cc2ccccc2C1\n",
            "[-0.06720623] c1ccc2cnccc2c1\n",
            "[0.4227306] OCC1OC(C(O)C1O)n2cnc3c(O)ncnc23\n",
            "[-0.43040684] c2(Cl)c(Cl)c(Cl)c1nccnc1c2(Cl) \n",
            "[0.4197617] C1OC1c2ccccc2 \n",
            "[-0.8637538] CCC(=C(CC)c1ccc(O)cc1)c2ccc(O)cc2 \n",
            "[0.15224037] c1ccc2c(c1)c3cccc4cccc2c34\n",
            "[0.0567931] CC(C)C(C(=O)OC(C#N)c1cccc(Oc2ccccc2)c1)c3ccc(OC(F)F)cc3\n",
            "[-0.05451127] CCCC1COC(Cn2cncn2)(O1)c3ccc(Cl)cc3Cl\n",
            "[0.07245672] O=C2CN(N=Cc1ccc(o1)N(=O)=O)C(=O)N2 \n",
            "[-1.457462] NC(=O)c1cnccn1\n",
            "[0.5728164] OC4=C(C1CCC(CC1)c2ccc(Cl)cc2)C(=O)c3ccccc3C4=O\n",
            "[-0.984941] O=C(Cn1ccnc1N(=O)=O)NCc2ccccc2\n",
            "[0.3562126] CCC1(C(=O)NC(=O)NC1=O)C2=CCCCC2 \n",
            "[0.14523023] COC(=O)C1=C(C)NC(=C(C1c2ccccc2N(=O)=O)C(=O)OC)C \n",
            "[-0.24621765] O=C2NC(=O)C1(CCC1)C(=O)N2\n",
            "[-0.15600307] CCCOP(=S)(OCCC)SCC(=O)N1CCCCC1C\n",
            "[-0.38721395] N(c1ccccc1)c2ccccc2\n",
            "[0.6684565] ClC(Cl)=C(c1ccc(Cl)cc1)c2ccc(Cl)cc2\n",
            "[-1.0912503] O=c2[nH]c1CCCc1c(=O)n2C3CCCCC3\n",
            "[-0.27822968] CCC1(C(=O)NCNC1=O)c2ccccc2\n",
            "[-0.9200645] O=C1CCCN1\n",
            "[0.3375636] COc5cc4OCC3Oc2c1CC(Oc1ccc2C(=O)C3c4cc5OC)C(C)=C \n",
            "[0.13153417] ClC4=C(Cl)C5(Cl)C3C1CC(C2OC12)C3C4(Cl)C5(Cl)Cl\n",
            "[0.3627092] c1ccsc1\n",
            "[-0.1003734] c1ccc2c(c1)ccc3c2ccc4c5ccccc5ccc43\n",
            "[0.29257885] Cc1occc1C(=O)Nc2ccccc2\n",
            "[-1.162863] OCC3OC(OCC2OC(OC(C#N)c1ccccc1)C(O)C(O)C2O)C(O)C(O)C3O \n"
          ],
          "name": "stdout"
        }
      ]
    }
  ]
}